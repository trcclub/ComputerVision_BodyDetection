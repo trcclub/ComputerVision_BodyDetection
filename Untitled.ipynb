{
 "cells": [
  {
   "cell_type": "code",
   "execution_count": 2,
   "metadata": {},
   "outputs": [],
   "source": [
    "import cv2\n",
    "import os\n",
    "import numpy as np"
   ]
  },
  {
   "cell_type": "code",
   "execution_count": 2,
   "metadata": {},
   "outputs": [
    {
     "name": "stdout",
     "output_type": "stream",
     "text": [
      "[b'.ipynb_checkpoints', b'haarcascade_fullbody.xml', b'people_walking.mp4', b'Untitled.ipynb']\n",
      "4.1.0\n"
     ]
    },
    {
     "name": "stderr",
     "output_type": "stream",
     "text": [
      "D:\\ProgramData\\Anaconda3\\lib\\site-packages\\ipykernel_launcher.py:1: DeprecationWarning: The Windows bytes API has been deprecated, use Unicode filenames instead\n",
      "  \"\"\"Entry point for launching an IPython kernel.\n"
     ]
    }
   ],
   "source": [
    "print(os.listdir(os.getcwdb()))\n",
    "print(cv2.__version__)"
   ]
  },
  {
   "cell_type": "markdown",
   "metadata": {},
   "source": [
    "# People detection in a video clip"
   ]
  },
  {
   "cell_type": "code",
   "execution_count": 4,
   "metadata": {},
   "outputs": [],
   "source": [
    "# body classifier --> opencv4 need this weird implementation with data.haarcascades\n",
    "body_haar_classifier = cv2.CascadeClassifier(cv2.data.haarcascades + 'haarcascade_fullbody.xml')\n",
    "\n",
    "# load our video clip --> final purpose is to do this with our current video flow from our camera\n",
    "cap = cv2.VideoCapture('people_walking.mp4')\n",
    "cap.set(cv2.CAP_PROP_FPS, 20)\n",
    "\n",
    "# launch after loading\n",
    "while cap.isOpened():\n",
    "    \n",
    "    # read video and resize it \n",
    "    ret, frame = cap.read()\n",
    "    frame = cv2.resize(frame, None, fx=0.5, fy=0.5, interpolation = cv2.INTER_LINEAR)\n",
    "    \n",
    "    # need to convert the frame to gray for body detection\n",
    "    gray_frame = cv2.cvtColor(frame, cv2.COLOR_BGR2GRAY)\n",
    "    \n",
    "    # use haar cascade classifier to detect the present body\n",
    "    bodies = body_haar_classifier.detectMultiScale(gray_frame, 1.2, 3)\n",
    "    \n",
    "    # display video with rectangles for every body detected\n",
    "    for (x,y,w,h) in bodies:\n",
    "        cv2.rectangle(frame, (x,y), (x+w, y+h), (0, 255, 255), 2)\n",
    "        cv2.imshow('videoClip', frame)\n",
    "    \n",
    "    # press enter to close the video clip\n",
    "    if cv2.waitKey(1) == 13:\n",
    "        break\n",
    "        \n",
    "cap.release()\n",
    "cv2.destroyAllWindows()\n"
   ]
  },
  {
   "cell_type": "markdown",
   "metadata": {},
   "source": [
    "# People detection with our camera flow"
   ]
  },
  {
   "cell_type": "code",
   "execution_count": 8,
   "metadata": {},
   "outputs": [],
   "source": [
    "cap = cv2.VideoCapture(0)\n",
    "\n",
    "while(True):\n",
    "    # Capture frame-by-frame\n",
    "    ret, frame = cap.read()\n",
    "    frame = cv2.resize(frame, None, fx=2, fy=2, interpolation = cv2.INTER_LINEAR)\n",
    "    \n",
    "    # need to convert the frame to gray for body detection\n",
    "    gray_frame = cv2.cvtColor(frame, cv2.COLOR_BGR2GRAY)\n",
    "    \n",
    "    # use haar cascade classifier to detect the present body\n",
    "    bodies = body_haar_classifier.detectMultiScale(gray_frame, 1.2, 3)\n",
    "    \n",
    "    # display video with rectangles for every body detected\n",
    "    for (x,y,w,h) in bodies:\n",
    "        cv2.rectangle(frame, (x,y), (x+w, y+h), (0, 255, 255), 2)\n",
    "        \n",
    "    cv2.imshow('current Frame Cam', frame)\n",
    "        \n",
    "    # press enter to close the video clip\n",
    "    if cv2.waitKey(1) == 13:\n",
    "        break\n",
    "\n",
    "# When everything done, release the capture\n",
    "cap.release()\n",
    "cv2.destroyAllWindows()"
   ]
  },
  {
   "cell_type": "markdown",
   "metadata": {},
   "source": [
    "The second script is not working very well, it seems that the xml haar classifier file is more efficient with very large vision field."
   ]
  },
  {
   "cell_type": "code",
   "execution_count": null,
   "metadata": {},
   "outputs": [],
   "source": []
  }
 ],
 "metadata": {
  "kernelspec": {
   "display_name": "Python 3",
   "language": "python",
   "name": "python3"
  },
  "language_info": {
   "codemirror_mode": {
    "name": "ipython",
    "version": 3
   },
   "file_extension": ".py",
   "mimetype": "text/x-python",
   "name": "python",
   "nbconvert_exporter": "python",
   "pygments_lexer": "ipython3",
   "version": "3.7.3"
  }
 },
 "nbformat": 4,
 "nbformat_minor": 2
}
